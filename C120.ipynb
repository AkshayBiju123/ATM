{
  "nbformat": 4,
  "nbformat_minor": 0,
  "metadata": {
    "colab": {
      "name": "C120.ipynb",
      "provenance": [],
      "authorship_tag": "ABX9TyNtwuXSTgKmmi8YaZzVu8N2",
      "include_colab_link": true
    },
    "kernelspec": {
      "name": "python3",
      "display_name": "Python 3"
    },
    "language_info": {
      "name": "python"
    }
  },
  "cells": [
    {
      "cell_type": "markdown",
      "metadata": {
        "id": "view-in-github",
        "colab_type": "text"
      },
      "source": [
        "<a href=\"https://colab.research.google.com/github/AkshayBiju123/ATM/blob/main/C120.ipynb\" target=\"_parent\"><img src=\"https://colab.research.google.com/assets/colab-badge.svg\" alt=\"Open In Colab\"/></a>"
      ]
    },
    {
      "cell_type": "code",
      "execution_count": null,
      "metadata": {
        "id": "PINgZ3v2rlfE"
      },
      "outputs": [],
      "source": [
        "import pandas as pd\n",
        "df = pd.read_csv(\"C120Data.csv\")\n",
        "\n"
      ]
    },
    {
      "cell_type": "code",
      "source": [
        "from sklearn.model_selection import train_test_split\n",
        "\n",
        "X= df[[\"age\", \"education-num\", \"hours-per-week\", \"capital-gain\", \"capital-loss\"]]\n",
        "y= df[\"income\"]\n",
        "\n",
        "x_train_1, x_test_1, y_train_1, y_test_1= train_test_split(X,y, test_size= 0.25,random_state = 42)\n"
      ],
      "metadata": {
        "id": "KCCeqZnNt2Nl"
      },
      "execution_count": null,
      "outputs": []
    },
    {
      "cell_type": "code",
      "source": [
        "from sklearn.naive_bayes import GaussianNB\n",
        "from sklearn.metrics import accuracy_score\n",
        "from sklearn.preprocessing import StandardScaler\n",
        "\n",
        "sc = StandardScaler()\n",
        "\n",
        "x_train_1 = sc.fit_transform(x_train_1)\n",
        "x_test_1 = sc.fit_transform(x_test_1)\n",
        "\n",
        "model_1 = GaussianNB()\n",
        "model_1.fit(x_train_1,y_train_1)\n",
        "\n",
        "y_pred_1 = model_1.predict(x_test_1)\n",
        "\n",
        "accuracy = accuracy_score(y_test_1,y_pred_1)\n",
        "print(accuracy)"
      ],
      "metadata": {
        "colab": {
          "base_uri": "https://localhost:8080/"
        },
        "id": "JQaaPBa2vwys",
        "outputId": "eeedcd84-258b-4649-acce-818f1373bcad"
      },
      "execution_count": null,
      "outputs": [
        {
          "output_type": "stream",
          "name": "stdout",
          "text": [
            "0.7896692021935255\n"
          ]
        }
      ]
    },
    {
      "cell_type": "code",
      "source": [
        "from sklearn.model_selection import train_test_split\n",
        "\n",
        "X= df[[\"age\", \"education-num\", \"hours-per-week\", \"capital-gain\", \"capital-loss\"]]\n",
        "y= df[\"income\"]\n",
        "\n",
        "x_train_2, x_test_2, y_train_2, y_test_2= train_test_split(X,y, test_size= 0.25,random_state = 42)\n"
      ],
      "metadata": {
        "id": "YMzI7r2Dxavy"
      },
      "execution_count": null,
      "outputs": []
    },
    {
      "cell_type": "code",
      "source": [
        "from sklearn.linear_model import LogisticRegression\n",
        "from sklearn.metrics import accuracy_score\n",
        "from sklearn.preprocessing import StandardScaler\n",
        "\n",
        "sc = StandardScaler() \n",
        "\n",
        "x_train_2 = sc.fit_transform(x_train_2)\n",
        "x_test_2 = sc.fit_transform(x_test_2)\n",
        "\n",
        "model_2 = LogisticRegression(random_state = 0)\n",
        "model_2.fit(x_train_2,y_train_2)\n",
        "\n",
        "y_pred_2 = model_2.predict(x_test_2)\n",
        "\n",
        "accuracy = accuracy_score(y_test_2,y_pred_2)\n",
        "print(accuracy)"
      ],
      "metadata": {
        "id": "MAa1DatpxRSS",
        "colab": {
          "base_uri": "https://localhost:8080/"
        },
        "outputId": "181a7317-0e24-4246-86a8-76f101f72e82"
      },
      "execution_count": 18,
      "outputs": [
        {
          "output_type": "stream",
          "name": "stdout",
          "text": [
            "0.8116929064213692\n"
          ]
        }
      ]
    },
    {
      "cell_type": "markdown",
      "source": [
        "In this case using logistic regression proved to be more accurate than Naive Bayes, because all of these features are dependent on each other (e.g. if the education is high then the income is high).\n",
        "\n",
        "---\n",
        "\n"
      ],
      "metadata": {
        "id": "4auXI1Bwyt9Z"
      }
    }
  ]
}