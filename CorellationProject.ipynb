{
  "nbformat": 4,
  "nbformat_minor": 0,
  "metadata": {
    "colab": {
      "name": "CorellationProject.ipynb",
      "provenance": [],
      "authorship_tag": "ABX9TyMID7lbzorB44YZhc+ncaUP",
      "include_colab_link": true
    },
    "kernelspec": {
      "name": "python3",
      "display_name": "Python 3"
    },
    "language_info": {
      "name": "python"
    }
  },
  "cells": [
    {
      "cell_type": "markdown",
      "metadata": {
        "id": "view-in-github",
        "colab_type": "text"
      },
      "source": [
        "<a href=\"https://colab.research.google.com/github/AkshayBiju123/ATM/blob/main/CorellationProject.ipynb\" target=\"_parent\"><img src=\"https://colab.research.google.com/assets/colab-badge.svg\" alt=\"Open In Colab\"/></a>"
      ]
    },
    {
      "cell_type": "code",
      "execution_count": 5,
      "metadata": {
        "colab": {
          "base_uri": "https://localhost:8080/"
        },
        "id": "YoSSSmB8vCaF",
        "outputId": "104aa957-fa5e-464c-9f1a-a743508fb1bf"
      },
      "outputs": [
        {
          "output_type": "stream",
          "name": "stdout",
          "text": [
            "Correlation between student marks and the amount of days present is :-  \n",
            "---> 0.86288947614385\n"
          ]
        }
      ],
      "source": [
        "import csv\n",
        "import numpy as np\n",
        "\n",
        "\n",
        "def getDataSource(data_path):\n",
        "    student_marks = []\n",
        "    days_present = []\n",
        "    with open(data_path) as csv_file:\n",
        "        csv_reader = csv.DictReader(csv_file)\n",
        "        for row in csv_reader:\n",
        "            student_marks.append(float(row[\"Marks In Percentage\"]))\n",
        "            days_present.append(float(row[\"Days Present\"]))\n",
        "\n",
        "    return {\"x\" : student_marks, \"y\": days_present}\n",
        "\n",
        "def findCorrelation(datasource):\n",
        "    correlation = np.corrcoef(datasource[\"x\"], datasource[\"y\"])\n",
        "    print(\"Correlation between student marks and the amount of days present is :-  \\n--->\",correlation[0,1])\n",
        "\n",
        "def setup():\n",
        "    data_path  = \"/content/correlation.csv\"\n",
        "\n",
        "    datasource = getDataSource(data_path)\n",
        "    findCorrelation(datasource)\n",
        "setup()\n"
      ]
    }
  ]
}